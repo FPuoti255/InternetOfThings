{
 "cells": [
  {
   "cell_type": "code",
   "execution_count": 1,
   "metadata": {},
   "outputs": [
    {
     "data": {
      "text/plain": [
       "0"
      ]
     },
     "execution_count": 1,
     "metadata": {},
     "output_type": "execute_result"
    }
   ],
   "source": [
    "import os\n",
    "import json\n",
    "\n",
    "os.system('tshark -r homework1.pcapng -T json > source.json')\n",
    "\n",
    "with open('source.json', 'rb') as fp:\n",
    "    source= json.load(fp)"
   ]
  },
  {
   "cell_type": "code",
   "execution_count": 3,
   "metadata": {},
   "outputs": [],
   "source": [
    "mqtt_packets = []\n",
    "for pk in source:\n",
    "    if 'mqtt' in pk['_source']['layers'].keys():\n",
    "        mqtt_packets.append(pk)"
   ]
  },
  {
   "cell_type": "code",
   "execution_count": 15,
   "metadata": {},
   "outputs": [
    {
     "name": "stdout",
     "output_type": "stream",
     "text": [
      "37.054054054054056\n"
     ]
    }
   ],
   "source": [
    "_sum = 0\n",
    "_count = 0\n",
    "for pk in mqtt_packets:\n",
    "    if pk['_source']['layers']['mqtt']['mqtt.hdrflags_tree']['mqtt.msgtype'] ==  '1' and\\\n",
    "        pk['_source']['layers']['mqtt']['mqtt.clientid_len'] ==  '0':\n",
    "        try:\n",
    "            _sum += int(pk['_source']['layers']['mqtt']['mqtt.willtopic_len'])\n",
    "            _count += 1\n",
    "        except:\n",
    "            pass\n",
    "\n",
    "print(_sum)\n",
    "print(_count)\n",
    "print('avg = ' + str(_sum/_count))\n",
    "    "
   ]
  },
  {
   "cell_type": "code",
   "execution_count": 17,
   "metadata": {},
   "outputs": [
    {
     "name": "stdout",
     "output_type": "stream",
     "text": [
      "1371\n",
      "123\n",
      "avg = 11.146341463414634\n"
     ]
    }
   ],
   "source": [
    "_sum = 0\n",
    "_count = 0\n",
    "for pk in mqtt_packets:\n",
    "    if pk['_source']['layers']['mqtt']['mqtt.hdrflags_tree']['mqtt.msgtype'] ==  '1' and\\\n",
    "        pk['_source']['layers']['mqtt']['mqtt.clientid_len'] ==  '0':\n",
    "        try:\n",
    "            _sum += int(pk['_source']['layers']['mqtt']['mqtt.willtopic_len'])\n",
    "            _count += 1\n",
    "        except:\n",
    "            _count += 1\n",
    "\n",
    "print(_sum)\n",
    "print(_count)\n",
    "print('avg = ' + str(_sum/_count))\n",
    "    "
   ]
  },
  {
   "cell_type": "code",
   "execution_count": null,
   "metadata": {},
   "outputs": [],
   "source": []
  }
 ],
 "metadata": {
  "interpreter": {
   "hash": "e7370f93d1d0cde622a1f8e1c04877d8463912d04d973331ad4851f04de6915a"
  },
  "kernelspec": {
   "display_name": "Python 3.10.4 64-bit",
   "language": "python",
   "name": "python3"
  },
  "language_info": {
   "codemirror_mode": {
    "name": "ipython",
    "version": 3
   },
   "file_extension": ".py",
   "mimetype": "text/x-python",
   "name": "python",
   "nbconvert_exporter": "python",
   "pygments_lexer": "ipython3",
   "version": "3.10.4"
  },
  "orig_nbformat": 4
 },
 "nbformat": 4,
 "nbformat_minor": 2
}
